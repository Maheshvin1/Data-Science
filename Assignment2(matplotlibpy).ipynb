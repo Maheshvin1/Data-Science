{
 "cells": [
  {
   "cell_type": "code",
   "execution_count": 7,
   "metadata": {},
   "outputs": [],
   "source": [
    "import pandas as pd\n",
    "import requests\n",
    "from bs4 import BeautifulSoup\n",
    "url = \"https://www.flipkart.com/search?q=books&otracker=search&otracker1=search&marketplace=FLIPKART&as-show=on&as=off\"\n",
    "req = requests.get(url)\n",
    "soup = BeautifulSoup(req.content, 'html5lib')"
   ]
  },
  {
   "cell_type": "code",
   "execution_count": 8,
   "metadata": {},
   "outputs": [
    {
     "data": {
      "text/plain": [
       "['My Fun Learning Board Books - Pack 1 (Animals, Fruits, ...',\n",
       " 'SSB Oir & Ppdt',\n",
       " \"Lucent's  - General Knowledge 2022 Edition\",\n",
       " 'Quantitative Aptitude for Competitive Examinations  - Q...',\n",
       " 'How to Crack Test of Reasoning',\n",
       " 'Word Power Made Easy  - Word Power',\n",
       " 'Rich Dad Poor Dad',\n",
       " 'CUET 2022 Book Mathematics (Maths) 25 Practice Sets By ...',\n",
       " '400 Days',\n",
       " 'Objective General English  - OBJECTIVE GENERAL ENGLISH ...',\n",
       " '27 Years Upsc IAS/ Ips Prelims Topic-Wise Solved Papers...',\n",
       " 'Ank Magic Practice Copybook, Number Tracing Book For Pr...',\n",
       " 'Rich Dad Poor Dad',\n",
       " 'Master Reasoning Book Verbal, Non-Verbal & Analytical',\n",
       " 'The Power of Your Subconscious Mind',\n",
       " 'Chhatrapati Shivaji Maharaj (First Edition)',\n",
       " 'How to Prepare for Verbal Ability and Reading Comprehen...',\n",
       " 'Oxford Student Atlas for India 4 Edition',\n",
       " 'General Knowledge 2022',\n",
       " 'NEET UG Chemistry Physics & Biology Study Material For ...',\n",
       " 'Self Study Guide CLAT 2022',\n",
       " 'Story Books Set of 10 in English with 101 Moral Stories...',\n",
       " 'Encyclopedia of General Science for General Competition...',\n",
       " 'MPSC General Studies Books For Prelims & Mains Exam Pre...',\n",
       " 'You Can Win',\n",
       " 'Believe in Yourself',\n",
       " 'How to Prepare for Quantitative Aptitude for Cat 9 Edit...',\n",
       " 'The Constitution of India ( ENGLISH )  - The Constituti...',\n",
       " 'Youth and Truth',\n",
       " 'Think Like a Monk 1st edition  - Train your Mind for Pe...',\n",
       " 'Why I am an Atheist and Other Works',\n",
       " 'Objective Agriculture For JRF Exam (22nd Edition)',\n",
       " 'Sochiye Aur Amir Baniye (Think And Grow Rich)',\n",
       " 'A Brief History of Modern India',\n",
       " 'Magbook Indian & World Geography 2021',\n",
       " 'UGC-NET Paper2 Geography Study Material In English Exam...',\n",
       " 'OBJECTIVE Computer Awareness',\n",
       " 'Fast Track Objective Arithmetic',\n",
       " 'Mission NDA : Serve At Young Age',\n",
       " 'AFCAT the first step']"
      ]
     },
     "execution_count": 8,
     "metadata": {},
     "output_type": "execute_result"
    }
   ],
   "source": [
    "name = soup.find_all(class_='s1Q9rs')\n",
    "for i in range (0,len(name)):\n",
    "    name[i] = name[i].text\n",
    "name"
   ]
  },
  {
   "cell_type": "code",
   "execution_count": 16,
   "metadata": {},
   "outputs": [
    {
     "data": {
      "text/plain": [
       "['189',\n",
       " '284',\n",
       " '126',\n",
       " '409',\n",
       " '114',\n",
       " '116',\n",
       " '148',\n",
       " '165',\n",
       " '114',\n",
       " '153',\n",
       " '275',\n",
       " '289',\n",
       " '219',\n",
       " '288',\n",
       " '87',\n",
       " '375',\n",
       " '549',\n",
       " '185',\n",
       " '91',\n",
       " '5,439',\n",
       " '290',\n",
       " '165',\n",
       " '151',\n",
       " '3,796',\n",
       " '279',\n",
       " '70',\n",
       " '665',\n",
       " '390',\n",
       " '107',\n",
       " '260',\n",
       " '105',\n",
       " '400',\n",
       " '69',\n",
       " '232',\n",
       " '97',\n",
       " '1,818',\n",
       " '84',\n",
       " '226',\n",
       " '439',\n",
       " '279',\n",
       " '375',\n",
       " '284',\n",
       " '189',\n",
       " '165',\n",
       " '279']"
      ]
     },
     "execution_count": 16,
     "metadata": {},
     "output_type": "execute_result"
    }
   ],
   "source": [
    "prc = soup.find_all(class_='_30jeq3')\n",
    "for i in range (0,len(prc)):\n",
    "    prc[i] = prc[i].text[1:]\n",
    "prc"
   ]
  },
  {
   "cell_type": "code",
   "execution_count": 15,
   "metadata": {},
   "outputs": [
    {
     "data": {
      "text/plain": [
       "['4.5',\n",
       " '4.4',\n",
       " '4.5',\n",
       " '4.4',\n",
       " '4.4',\n",
       " '4.4',\n",
       " '4.5',\n",
       " '4.6',\n",
       " '4.4',\n",
       " '4.6',\n",
       " '3.3',\n",
       " '4.4',\n",
       " '4.5',\n",
       " '4.5',\n",
       " '4.8',\n",
       " '4.3',\n",
       " '4.5',\n",
       " '4.4',\n",
       " '4.3',\n",
       " '4.3',\n",
       " '4.4',\n",
       " '4.5',\n",
       " '4.4',\n",
       " '4.5',\n",
       " '4.7',\n",
       " '4.7',\n",
       " '4.7',\n",
       " '4.6',\n",
       " '4.6',\n",
       " '4.4',\n",
       " '4.4',\n",
       " '4.5',\n",
       " '4.4',\n",
       " '4.5',\n",
       " '4.5',\n",
       " '4.4',\n",
       " '4.8',\n",
       " '5',\n",
       " '5',\n",
       " '4.4',\n",
       " '5',\n",
       " '3',\n",
       " '4.5',\n",
       " '5',\n",
       " '5',\n",
       " '4.3',\n",
       " '5',\n",
       " '5',\n",
       " '4.5',\n",
       " '5',\n",
       " '5']"
      ]
     },
     "execution_count": 15,
     "metadata": {},
     "output_type": "execute_result"
    }
   ],
   "source": [
    "rating = soup.find_all(class_= '_3LWZlK')\n",
    "for i in range (0, len(rating)):\n",
    "    rating[i] = rating[i].text\n",
    "rating"
   ]
  },
  {
   "cell_type": "code",
   "execution_count": 34,
   "metadata": {},
   "outputs": [
    {
     "data": {
      "text/html": [
       "<div>\n",
       "<style scoped>\n",
       "    .dataframe tbody tr th:only-of-type {\n",
       "        vertical-align: middle;\n",
       "    }\n",
       "\n",
       "    .dataframe tbody tr th {\n",
       "        vertical-align: top;\n",
       "    }\n",
       "\n",
       "    .dataframe thead th {\n",
       "        text-align: right;\n",
       "    }\n",
       "</style>\n",
       "<table border=\"1\" class=\"dataframe\">\n",
       "  <thead>\n",
       "    <tr style=\"text-align: right;\">\n",
       "      <th></th>\n",
       "      <th>Book Name</th>\n",
       "      <th>Price</th>\n",
       "      <th>Ratings</th>\n",
       "    </tr>\n",
       "  </thead>\n",
       "  <tbody>\n",
       "    <tr>\n",
       "      <th>0</th>\n",
       "      <td>My Fun Learning Board Books - Pack 1 (Animals,...</td>\n",
       "      <td>189</td>\n",
       "      <td>4.5</td>\n",
       "    </tr>\n",
       "    <tr>\n",
       "      <th>1</th>\n",
       "      <td>SSB Oir &amp; Ppdt</td>\n",
       "      <td>284</td>\n",
       "      <td>4.4</td>\n",
       "    </tr>\n",
       "    <tr>\n",
       "      <th>2</th>\n",
       "      <td>Lucent's  - General Knowledge 2022 Edition</td>\n",
       "      <td>126</td>\n",
       "      <td>4.5</td>\n",
       "    </tr>\n",
       "    <tr>\n",
       "      <th>3</th>\n",
       "      <td>Quantitative Aptitude for Competitive Examinat...</td>\n",
       "      <td>409</td>\n",
       "      <td>4.4</td>\n",
       "    </tr>\n",
       "    <tr>\n",
       "      <th>4</th>\n",
       "      <td>How to Crack Test of Reasoning</td>\n",
       "      <td>114</td>\n",
       "      <td>4.4</td>\n",
       "    </tr>\n",
       "  </tbody>\n",
       "</table>\n",
       "</div>"
      ],
      "text/plain": [
       "                                           Book Name Price Ratings\n",
       "0  My Fun Learning Board Books - Pack 1 (Animals,...   189     4.5\n",
       "1                                     SSB Oir & Ppdt   284     4.4\n",
       "2         Lucent's  - General Knowledge 2022 Edition   126     4.5\n",
       "3  Quantitative Aptitude for Competitive Examinat...   409     4.4\n",
       "4                     How to Crack Test of Reasoning   114     4.4"
      ]
     },
     "execution_count": 34,
     "metadata": {},
     "output_type": "execute_result"
    }
   ],
   "source": [
    "d = {\"Book Name\":name[:5], \"Price\":prc[:5], \"Ratings\":rating[:5]}\n",
    "df = pd.DataFrame(d)\n",
    "df"
   ]
  },
  {
   "cell_type": "code",
   "execution_count": 35,
   "metadata": {},
   "outputs": [],
   "source": [
    "df.to_csv('Assignment2(matplotlibpy).csv')"
   ]
  },
  {
   "cell_type": "code",
   "execution_count": 36,
   "metadata": {},
   "outputs": [],
   "source": [
    "import matplotlib.pyplot as plt\n",
    "\n",
    "data = pd.read_csv(\"Assignment2(matplotlibpy).csv\")"
   ]
  },
  {
   "cell_type": "code",
   "execution_count": 37,
   "metadata": {},
   "outputs": [
    {
     "data": {
      "text/html": [
       "<div>\n",
       "<style scoped>\n",
       "    .dataframe tbody tr th:only-of-type {\n",
       "        vertical-align: middle;\n",
       "    }\n",
       "\n",
       "    .dataframe tbody tr th {\n",
       "        vertical-align: top;\n",
       "    }\n",
       "\n",
       "    .dataframe thead th {\n",
       "        text-align: right;\n",
       "    }\n",
       "</style>\n",
       "<table border=\"1\" class=\"dataframe\">\n",
       "  <thead>\n",
       "    <tr style=\"text-align: right;\">\n",
       "      <th></th>\n",
       "      <th>Unnamed: 0</th>\n",
       "      <th>Book Name</th>\n",
       "      <th>Price</th>\n",
       "      <th>Ratings</th>\n",
       "    </tr>\n",
       "  </thead>\n",
       "  <tbody>\n",
       "    <tr>\n",
       "      <th>0</th>\n",
       "      <td>0</td>\n",
       "      <td>My Fun Learning Board Books - Pack 1 (Animals,...</td>\n",
       "      <td>189</td>\n",
       "      <td>4.5</td>\n",
       "    </tr>\n",
       "    <tr>\n",
       "      <th>1</th>\n",
       "      <td>1</td>\n",
       "      <td>SSB Oir &amp; Ppdt</td>\n",
       "      <td>284</td>\n",
       "      <td>4.4</td>\n",
       "    </tr>\n",
       "    <tr>\n",
       "      <th>2</th>\n",
       "      <td>2</td>\n",
       "      <td>Lucent's  - General Knowledge 2022 Edition</td>\n",
       "      <td>126</td>\n",
       "      <td>4.5</td>\n",
       "    </tr>\n",
       "    <tr>\n",
       "      <th>3</th>\n",
       "      <td>3</td>\n",
       "      <td>Quantitative Aptitude for Competitive Examinat...</td>\n",
       "      <td>409</td>\n",
       "      <td>4.4</td>\n",
       "    </tr>\n",
       "    <tr>\n",
       "      <th>4</th>\n",
       "      <td>4</td>\n",
       "      <td>How to Crack Test of Reasoning</td>\n",
       "      <td>114</td>\n",
       "      <td>4.4</td>\n",
       "    </tr>\n",
       "  </tbody>\n",
       "</table>\n",
       "</div>"
      ],
      "text/plain": [
       "   Unnamed: 0                                          Book Name  Price  \\\n",
       "0           0  My Fun Learning Board Books - Pack 1 (Animals,...    189   \n",
       "1           1                                     SSB Oir & Ppdt    284   \n",
       "2           2         Lucent's  - General Knowledge 2022 Edition    126   \n",
       "3           3  Quantitative Aptitude for Competitive Examinat...    409   \n",
       "4           4                     How to Crack Test of Reasoning    114   \n",
       "\n",
       "   Ratings  \n",
       "0      4.5  \n",
       "1      4.4  \n",
       "2      4.5  \n",
       "3      4.4  \n",
       "4      4.4  "
      ]
     },
     "execution_count": 37,
     "metadata": {},
     "output_type": "execute_result"
    }
   ],
   "source": [
    "data.head()"
   ]
  },
  {
   "cell_type": "code",
   "execution_count": 49,
   "metadata": {},
   "outputs": [
    {
     "data": {
      "image/png": "[encoded data removed]",
      "text/plain": [
       "<Figure size 432x288 with 1 Axes>"
      ]
     },
     "metadata": {
      "needs_background": "light"
     },
     "output_type": "display_data"
    }
   ],
   "source": [
    "plt.bar(data[\"Price\"], data[\"Book Name\"], width=8.0)\n",
    "plt.title(\"Price Bar of Books\")\n",
    "plt.xlabel(\"Prices of Books\")\n",
    "plt.ylabel(\"Books Name\")\n",
    "plt.show()"
   ]
  },
  {
   "cell_type": "code",
   "execution_count": 54,
   "metadata": {},
   "outputs": [
    {
     "data": {
      "image/png": "[encoded data removed]",
      "text/plain": [
       "<Figure size 432x288 with 1 Axes>"
      ]
     },
     "metadata": {},
     "output_type": "display_data"
    }
   ],
   "source": [
    "plt.pie(data[\"Price\"], labels = data[\"Book Name\"])\n",
    "plt.show()"
   ]
  },
  {
   "cell_type": "code",
   "execution_count": null,
   "metadata": {},
   "outputs": [],
   "source": []
  }
 ],
 "metadata": {
  "kernelspec": {
   "display_name": "Python 3",
   "language": "python",
   "name": "python3"
  },
  "language_info": {
   "codemirror_mode": {
    "name": "ipython",
    "version": 3
   },
   "file_extension": ".py",
   "mimetype": "text/x-python",
   "name": "python",
   "nbconvert_exporter": "python",
   "pygments_lexer": "ipython3",
   "version": "3.7.3"
  }
 },
 "nbformat": 4,
 "nbformat_minor": 2
}
